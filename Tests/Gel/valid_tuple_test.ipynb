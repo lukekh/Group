{
 "cells": [
  {
   "cell_type": "markdown",
   "metadata": {},
   "source": [
    "# Tuple validation\n",
    "\n",
    "Tuple validation is very inefficient and can instead be handled by the inbuilt set logic.\n",
    "\n",
    "A perm, turned into a set, will delete all duplicates. We then compare this to the set of numbers between 1 and the length of the perm.\n",
    "\n"
   ]
  },
  {
   "cell_type": "code",
   "execution_count": 1,
   "metadata": {},
   "outputs": [],
   "source": [
    "import time\n",
    "import random"
   ]
  },
  {
   "cell_type": "code",
   "execution_count": 2,
   "metadata": {},
   "outputs": [],
   "source": [
    "trials = 100000\n",
    "data = []\n",
    "\n",
    "for i in range(trials):\n",
    "    \n",
    "    n = random.randint(2,100)\n",
    "    \n",
    "    if i % 1000 != 0:\n",
    "        l = list(range(1,n))\n",
    "        random.shuffle(l)\n",
    "    else:\n",
    "        l = [random.randint(1,n) for j in range(n)]\n",
    "    \n",
    "    data.append(l)"
   ]
  },
  {
   "cell_type": "code",
   "execution_count": 3,
   "metadata": {},
   "outputs": [
    {
     "name": "stdout",
     "output_type": "stream",
     "text": [
      "4.487235546112061e-06\n"
     ]
    }
   ],
   "source": [
    "count = 0\n",
    "\n",
    "\n",
    "tic = time.time()\n",
    "    \n",
    "for datum in data:\n",
    "    if set(datum) == set(range(1,len(datum)+1)):\n",
    "        count += 1\n",
    "\n",
    "toc = time.time()-tic\n",
    "\n",
    "print(toc/trials)"
   ]
  },
  {
   "cell_type": "code",
   "execution_count": 4,
   "metadata": {},
   "outputs": [
    {
     "name": "stdout",
     "output_type": "stream",
     "text": [
      "3.673739433288574e-05\n"
     ]
    }
   ],
   "source": [
    "count = 0\n",
    "\n",
    "tic = time.time()\n",
    "    \n",
    "for datum in data:\n",
    "    p = True\n",
    "    for i, _ in enumerate(datum):\n",
    "        p = p & (i+1 in datum)\n",
    "    if p:\n",
    "        count += 1\n",
    "\n",
    "toc = time.time()-tic\n",
    "\n",
    "print(toc/trials)"
   ]
  },
  {
   "cell_type": "markdown",
   "metadata": {},
   "source": [
    "---"
   ]
  }
 ],
 "metadata": {
  "kernelspec": {
   "display_name": "Python 3",
   "language": "python",
   "name": "python3"
  },
  "language_info": {
   "codemirror_mode": {
    "name": "ipython",
    "version": 3
   },
   "file_extension": ".py",
   "mimetype": "text/x-python",
   "name": "python",
   "nbconvert_exporter": "python",
   "pygments_lexer": "ipython3",
   "version": "3.7.2"
  }
 },
 "nbformat": 4,
 "nbformat_minor": 4
}
